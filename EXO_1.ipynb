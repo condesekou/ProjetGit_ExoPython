{
 "cells": [
  {
   "cell_type": "markdown",
   "id": "bac7d76d",
   "metadata": {},
   "source": [
    "### Ecrire un programme qui demande à l'utilisateur de saisir un nombre N. Le programme devra ensuite calculer puis afficher la somme des nombres compris entre 1 et N."
   ]
  },
  {
   "cell_type": "code",
   "execution_count": 39,
   "id": "f1fd14bf",
   "metadata": {},
   "outputs": [],
   "source": [
    "def calcul_somme(param):\n",
    "    try:\n",
    "        n = param\n",
    "        n = int(n)\n",
    "        if n<0:\n",
    "            raise ValueError\n",
    "        som = 0\n",
    "        for i in range(n+1): \n",
    "            som = som + i\n",
    "\n",
    "        print('La somme des valeurs comprises entre 1 et',n,'est',som)\n",
    "    except ValueError or TypeError:\n",
    "        calcul_somme(input('Entrer un nombre entier positif '))"
   ]
  },
  {
   "cell_type": "code",
   "execution_count": 40,
   "id": "78f41c18",
   "metadata": {},
   "outputs": [
    {
     "name": "stdout",
     "output_type": "stream",
     "text": [
      "Entrer un nombre entier positif 10\n",
      "La somme des valeurs comprises entre 1 et 10 est 55\n"
     ]
    }
   ],
   "source": [
    "calcul_somme(input('Entrer un nombre entier positif '))"
   ]
  },
  {
   "cell_type": "code",
   "execution_count": null,
   "id": "b927c93c",
   "metadata": {},
   "outputs": [],
   "source": []
  }
 ],
 "metadata": {
  "kernelspec": {
   "display_name": "Python 3 (ipykernel)",
   "language": "python",
   "name": "python3"
  },
  "language_info": {
   "codemirror_mode": {
    "name": "ipython",
    "version": 3
   },
   "file_extension": ".py",
   "mimetype": "text/x-python",
   "name": "python",
   "nbconvert_exporter": "python",
   "pygments_lexer": "ipython3",
   "version": "3.10.9"
  }
 },
 "nbformat": 4,
 "nbformat_minor": 5
}
